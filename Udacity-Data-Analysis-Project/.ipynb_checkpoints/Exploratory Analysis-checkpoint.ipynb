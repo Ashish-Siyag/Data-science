{
 "cells": [
  {
   "cell_type": "code",
   "execution_count": 69,
   "metadata": {
    "collapsed": true
   },
   "outputs": [],
   "source": [
    "import unicodecsv as csv\n",
    "import matplotlib.pyplot as plt\n",
    "from datetime import datetime as dt\n",
    "import numpy as np\n",
    "from collections import defaultdict\n"
   ]
  },
  {
   "cell_type": "code",
   "execution_count": 2,
   "metadata": {
    "collapsed": true
   },
   "outputs": [],
   "source": [
    "files = ['daily_engagement.csv','enrollments.csv', 'project_submissions.csv']"
   ]
  },
  {
   "cell_type": "code",
   "execution_count": 3,
   "metadata": {},
   "outputs": [],
   "source": [
    "def reading_file(filename):\n",
    "    with open(filename,'rb') as file:\n",
    "        reader = csv.DictReader(file)\n",
    "        dictionary = list(reader)\n",
    "    return(dictionary)"
   ]
  },
  {
   "cell_type": "code",
   "execution_count": 11,
   "metadata": {},
   "outputs": [],
   "source": [
    "daily_engagement = reading_file(files[0])\n",
    "enrollment = reading_file(files[1])\n",
    "project_submission = reading_file(files[2])"
   ]
  },
  {
   "cell_type": "code",
   "execution_count": 12,
   "metadata": {},
   "outputs": [
    {
     "data": {
      "text/plain": [
       "OrderedDict([('acct', '0'),\n",
       "             ('utc_date', '2015-01-09'),\n",
       "             ('num_courses_visited', '1.0'),\n",
       "             ('total_minutes_visited', '11.6793745'),\n",
       "             ('lessons_completed', '0.0'),\n",
       "             ('projects_completed', '0.0')])"
      ]
     },
     "execution_count": 12,
     "metadata": {},
     "output_type": "execute_result"
    }
   ],
   "source": [
    "daily_engagement[0]"
   ]
  },
  {
   "cell_type": "code",
   "execution_count": 13,
   "metadata": {},
   "outputs": [
    {
     "data": {
      "text/plain": [
       "OrderedDict([('account_key', '448'),\n",
       "             ('status', 'canceled'),\n",
       "             ('join_date', '2014-11-10'),\n",
       "             ('cancel_date', '2015-01-14'),\n",
       "             ('days_to_cancel', '65'),\n",
       "             ('is_udacity', 'True'),\n",
       "             ('is_canceled', 'True')])"
      ]
     },
     "execution_count": 13,
     "metadata": {},
     "output_type": "execute_result"
    }
   ],
   "source": [
    "enrollment[0]"
   ]
  },
  {
   "cell_type": "code",
   "execution_count": 14,
   "metadata": {
    "scrolled": true
   },
   "outputs": [
    {
     "data": {
      "text/plain": [
       "OrderedDict([('creation_date', '2015-01-14'),\n",
       "             ('completion_date', '2015-01-16'),\n",
       "             ('assigned_rating', 'UNGRADED'),\n",
       "             ('account_key', '256'),\n",
       "             ('lesson_key', '3176718735'),\n",
       "             ('processing_state', 'EVALUATED')])"
      ]
     },
     "execution_count": 14,
     "metadata": {},
     "output_type": "execute_result"
    }
   ],
   "source": [
    "project_submission[0]"
   ]
  },
  {
   "cell_type": "code",
   "execution_count": 15,
   "metadata": {},
   "outputs": [],
   "source": [
    "def parse_date(date):\n",
    "    if date == '':\n",
    "        return None\n",
    "    else:\n",
    "        return dt.strptime(date, '%Y-%m-%d')\n",
    "    "
   ]
  },
  {
   "cell_type": "code",
   "execution_count": 16,
   "metadata": {},
   "outputs": [],
   "source": [
    "for row in daily_engagement:\n",
    "    row['account_key'] = row['acct']\n",
    "    row['utc_date'] = parse_date(row['utc_date'])\n",
    "    row['num_courses_visited'] = float(row['num_courses_visited'])\n",
    "    row['total_minutes_visited'] = float(row['total_minutes_visited'])\n",
    "    row['lessons_completed'] = float(row['lessons_completed'])\n",
    "    row['projects_completed'] = float(row['projects_completed'])"
   ]
  },
  {
   "cell_type": "code",
   "execution_count": 17,
   "metadata": {},
   "outputs": [
    {
     "data": {
      "text/plain": [
       "OrderedDict([('acct', '0'),\n",
       "             ('utc_date', datetime.datetime(2015, 1, 9, 0, 0)),\n",
       "             ('num_courses_visited', 1.0),\n",
       "             ('total_minutes_visited', 11.6793745),\n",
       "             ('lessons_completed', 0.0),\n",
       "             ('projects_completed', 0.0),\n",
       "             ('account_key', '0')])"
      ]
     },
     "execution_count": 17,
     "metadata": {},
     "output_type": "execute_result"
    }
   ],
   "source": [
    "daily_engagement[0]"
   ]
  },
  {
   "cell_type": "code",
   "execution_count": 19,
   "metadata": {},
   "outputs": [],
   "source": [
    "for row in enrollment:\n",
    "    row['join_date'] = parse_date(row['join_date'])\n",
    "    row['cancel_date'] = parse_date(row['cancel_date'])\n",
    "    if row['days_to_cancel'] == '':\n",
    "        row['days_to_cancel'] = None\n",
    "    else:\n",
    "        row['days_to_cancel'] = int(row['days_to_cancel'])\n",
    "    row['is_udacity'] = row['is_udacity'] == 'True'\n",
    "    row['is_canceled'] = row['is_canceled'] == 'True'"
   ]
  },
  {
   "cell_type": "code",
   "execution_count": 20,
   "metadata": {},
   "outputs": [
    {
     "data": {
      "text/plain": [
       "OrderedDict([('account_key', '448'),\n",
       "             ('status', 'canceled'),\n",
       "             ('join_date', datetime.datetime(2014, 11, 10, 0, 0)),\n",
       "             ('cancel_date', datetime.datetime(2015, 1, 14, 0, 0)),\n",
       "             ('days_to_cancel', 65),\n",
       "             ('is_udacity', True),\n",
       "             ('is_canceled', True)])"
      ]
     },
     "execution_count": 20,
     "metadata": {},
     "output_type": "execute_result"
    }
   ],
   "source": [
    "enrollment[0]"
   ]
  },
  {
   "cell_type": "code",
   "execution_count": 22,
   "metadata": {},
   "outputs": [],
   "source": [
    "def unique_account(data):\n",
    "    unique_account = []\n",
    "    for row in data:\n",
    "        if row['account_key'] not in unique_account:\n",
    "            unique_account.append(row['account_key'])\n",
    "    return(unique_account)\n",
    "\n",
    "daily_unique_account = unique_account(daily_engagement)\n",
    "enroll_unique_account = unique_account(enrollment)\n",
    "project_unique_account = unique_account(project_submission)"
   ]
  },
  {
   "cell_type": "code",
   "execution_count": 23,
   "metadata": {},
   "outputs": [
    {
     "data": {
      "text/plain": [
       "1237"
      ]
     },
     "execution_count": 23,
     "metadata": {},
     "output_type": "execute_result"
    }
   ],
   "source": [
    "len(daily_unique_account)"
   ]
  },
  {
   "cell_type": "code",
   "execution_count": 24,
   "metadata": {},
   "outputs": [
    {
     "data": {
      "text/plain": [
       "1302"
      ]
     },
     "execution_count": 24,
     "metadata": {},
     "output_type": "execute_result"
    }
   ],
   "source": [
    "len(enroll_unique_account)"
   ]
  },
  {
   "cell_type": "code",
   "execution_count": 25,
   "metadata": {},
   "outputs": [
    {
     "data": {
      "text/plain": [
       "743"
      ]
     },
     "execution_count": 25,
     "metadata": {},
     "output_type": "execute_result"
    }
   ],
   "source": [
    "len(project_unique_account)"
   ]
  },
  {
   "cell_type": "code",
   "execution_count": 28,
   "metadata": {},
   "outputs": [],
   "source": [
    "zero_days = []\n",
    "for row in enrollment:\n",
    "    if row['account_key'] not in daily_unique_account:\n",
    "        if row['days_to_cancel'] == 0:\n",
    "            if row['account_key'] not in zero_days:\n",
    "                zero_days.append(row['account_key'])\n"
   ]
  },
  {
   "cell_type": "code",
   "execution_count": 29,
   "metadata": {},
   "outputs": [
    {
     "data": {
      "text/plain": [
       "63"
      ]
     },
     "execution_count": 29,
     "metadata": {},
     "output_type": "execute_result"
    }
   ],
   "source": [
    "len(zero_days)"
   ]
  },
  {
   "cell_type": "code",
   "execution_count": 30,
   "metadata": {},
   "outputs": [
    {
     "name": "stdout",
     "output_type": "stream",
     "text": [
      "OrderedDict([('account_key', '1304'), ('status', 'canceled'), ('join_date', datetime.datetime(2015, 1, 10, 0, 0)), ('cancel_date', datetime.datetime(2015, 3, 10, 0, 0)), ('days_to_cancel', 59), ('is_udacity', True), ('is_canceled', True)])\n",
      "OrderedDict([('account_key', '1304'), ('status', 'canceled'), ('join_date', datetime.datetime(2015, 3, 10, 0, 0)), ('cancel_date', datetime.datetime(2015, 6, 17, 0, 0)), ('days_to_cancel', 99), ('is_udacity', True), ('is_canceled', True)])\n",
      "OrderedDict([('account_key', '1101'), ('status', 'current'), ('join_date', datetime.datetime(2015, 2, 25, 0, 0)), ('cancel_date', None), ('days_to_cancel', None), ('is_udacity', True), ('is_canceled', False)])\n"
     ]
    }
   ],
   "source": [
    "for row in enrollment:\n",
    "    if row['account_key'] not in daily_unique_account:\n",
    "        if row['account_key'] not in zero_days:\n",
    "            print(row)"
   ]
  },
  {
   "cell_type": "code",
   "execution_count": 35,
   "metadata": {
    "collapsed": true
   },
   "outputs": [],
   "source": [
    "test_accounts = []\n",
    "for row in enrollment:\n",
    "    if row['is_udacity'] == True:\n",
    "        test_accounts.append(row['account_key'])"
   ]
  },
  {
   "cell_type": "code",
   "execution_count": 36,
   "metadata": {},
   "outputs": [],
   "source": [
    "def non_udacity(data):\n",
    "    non_udacity = []\n",
    "    for row in data:\n",
    "        if row['account_key'] not in test_accounts:\n",
    "            non_udacity.append(row)\n",
    "    return(non_udacity)\n",
    "            "
   ]
  },
  {
   "cell_type": "code",
   "execution_count": 37,
   "metadata": {},
   "outputs": [],
   "source": [
    "non_udacity_engagement = non_udacity(daily_engagement)\n",
    "non_udacity_enrollment = non_udacity(enrollment)\n",
    "non_udacity_submission = non_udacity(project_submission)"
   ]
  },
  {
   "cell_type": "code",
   "execution_count": 61,
   "metadata": {},
   "outputs": [],
   "source": [
    "paid_students = {}\n",
    "for row in non_udacity_enrollment:\n",
    "    account_key = row['account_key']\n",
    "    enrollment = row['join_date']\n",
    "    if row['days_to_cancel'] == None or row['days_to_cancel'] > 7:\n",
    "        if account_key not in paid_students or enrollment > paid_students[account_key]:\n",
    "            paid_students[account_key] = enrollment"
   ]
  },
  {
   "cell_type": "code",
   "execution_count": 68,
   "metadata": {},
   "outputs": [],
   "source": [
    "engagement_first_week = []\n",
    "for row in non_udacity_engagement:\n",
    "    if row['account_key'] in paid_students:\n",
    "        account_key = row['account_key']\n",
    "        join_date = paid_students[account_key]\n",
    "        engagement_date = row['utc_date']\n",
    "        \n",
    "        time_delta = engagement_date - join_date\n",
    "        \n",
    "        if time_delta.days >= 0 or time_delta.days <= 7:\n",
    "            engagement_first_week.append(row)\n",
    "        "
   ]
  },
  {
   "cell_type": "code",
   "execution_count": 70,
   "metadata": {
    "collapsed": true
   },
   "outputs": [],
   "source": [
    "engagement_by_account = defaultdict(list)\n",
    "for row in engagement_first_week:\n",
    "    account_key = row['account_key']\n",
    "    engagement_by_account[account_key].append(row)"
   ]
  },
  {
   "cell_type": "code",
   "execution_count": 106,
   "metadata": {},
   "outputs": [],
   "source": [
    "def total(term):\n",
    "    term_to_account = {}\n",
    "    for account_key, engagement in engagement_by_account.items():\n",
    "        total_term = 0\n",
    "        for row in engagement:\n",
    "            \n",
    "            total_term += row[term]\n",
    "        \n",
    "        term_to_account[account_key] = total_term\n",
    "        \n",
    "    return(term_to_account)"
   ]
  },
  {
   "cell_type": "code",
   "execution_count": 107,
   "metadata": {},
   "outputs": [],
   "source": [
    "minutes_to_account = total('total_minutes_visited')\n",
    "lesson_to_account = total('lessons_completed')\n",
    "projects_to_account = total('projects_completed')"
   ]
  },
  {
   "cell_type": "code",
   "execution_count": 108,
   "metadata": {},
   "outputs": [
    {
     "data": {
      "image/png": "[encoded data removed]",
      "text/plain": [
       "<matplotlib.figure.Figure at 0x16a9d1bcc18>"
      ]
     },
     "metadata": {},
     "output_type": "display_data"
    }
   ],
   "source": [
    "plt.hist(minutes_to_account.values())\n",
    "plt.xlabel('Minutes spend')\n",
    "plt.ylabel('No. of accounts')\n",
    "plt.show()"
   ]
  },
  {
   "cell_type": "code",
   "execution_count": 110,
   "metadata": {},
   "outputs": [
    {
     "data": {
      "image/png": "[encoded data removed]",
      "text/plain": [
       "<matplotlib.figure.Figure at 0x16a9d148208>"
      ]
     },
     "metadata": {},
     "output_type": "display_data"
    }
   ],
   "source": [
    "plt.hist(lesson_to_account.values())\n",
    "plt.xlabel('Lessons completed')\n",
    "plt.ylabel('No. of accounts')\n",
    "plt.show()"
   ]
  },
  {
   "cell_type": "code",
   "execution_count": 111,
   "metadata": {},
   "outputs": [
    {
     "data": {
      "image/png": "[encoded data removed]",
      "text/plain": [
       "<matplotlib.figure.Figure at 0x16a9d124320>"
      ]
     },
     "metadata": {},
     "output_type": "display_data"
    }
   ],
   "source": [
    "plt.hist(projects_to_account.values())\n",
    "plt.xlabel('Projects completed')\n",
    "plt.ylabel('No. of accounts')\n",
    "plt.show()"
   ]
  },
  {
   "cell_type": "code",
   "execution_count": null,
   "metadata": {
    "collapsed": true
   },
   "outputs": [],
   "source": []
  }
 ],
 "metadata": {
  "kernelspec": {
   "display_name": "Python 3",
   "language": "python",
   "name": "python3"
  },
  "language_info": {
   "codemirror_mode": {
    "name": "ipython",
    "version": 3
   },
   "file_extension": ".py",
   "mimetype": "text/x-python",
   "name": "python",
   "nbconvert_exporter": "python",
   "pygments_lexer": "ipython3",
   "version": "3.6.3"
  }
 },
 "nbformat": 4,
 "nbformat_minor": 2
}
