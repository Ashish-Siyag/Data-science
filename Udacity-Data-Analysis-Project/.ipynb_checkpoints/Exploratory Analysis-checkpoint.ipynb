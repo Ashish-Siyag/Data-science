{
 "cells": [
  {
   "cell_type": "code",
   "execution_count": 112,
   "metadata": {
    "collapsed": true
   },
   "outputs": [],
   "source": [
    "import unicodecsv as csv\n",
    "import matplotlib.pyplot as plt\n",
    "from datetime import datetime as dt\n",
    "import numpy as np\n",
    "from collections import defaultdict\n",
    "import pandas as pd\n"
   ]
  },
  {
   "cell_type": "code",
   "execution_count": 2,
   "metadata": {
    "collapsed": true
   },
   "outputs": [],
   "source": [
    "files = ['daily_engagement.csv','enrollments.csv', 'project_submissions.csv']"
   ]
  },
  {
   "cell_type": "code",
   "execution_count": 3,
   "metadata": {
    "collapsed": true
   },
   "outputs": [],
   "source": [
    "def reading_file(filename):\n",
    "    with open(filename,'rb') as file:\n",
    "        reader = csv.DictReader(file)\n",
    "        dictionary = list(reader)\n",
    "    return(dictionary)"
   ]
  },
  {
   "cell_type": "code",
   "execution_count": 4,
   "metadata": {
    "collapsed": true
   },
   "outputs": [],
   "source": [
    "daily_engagement = reading_file(files[0])\n",
    "enrollment = reading_file(files[1])\n",
    "project_submission = reading_file(files[2])"
   ]
  },
  {
   "cell_type": "code",
   "execution_count": 5,
   "metadata": {},
   "outputs": [
    {
     "data": {
      "text/plain": [
       "OrderedDict([('acct', '0'),\n",
       "             ('utc_date', '2015-01-09'),\n",
       "             ('num_courses_visited', '1.0'),\n",
       "             ('total_minutes_visited', '11.6793745'),\n",
       "             ('lessons_completed', '0.0'),\n",
       "             ('projects_completed', '0.0')])"
      ]
     },
     "execution_count": 5,
     "metadata": {},
     "output_type": "execute_result"
    }
   ],
   "source": [
    "daily_engagement[0]"
   ]
  },
  {
   "cell_type": "code",
   "execution_count": 6,
   "metadata": {},
   "outputs": [
    {
     "data": {
      "text/plain": [
       "OrderedDict([('account_key', '448'),\n",
       "             ('status', 'canceled'),\n",
       "             ('join_date', '2014-11-10'),\n",
       "             ('cancel_date', '2015-01-14'),\n",
       "             ('days_to_cancel', '65'),\n",
       "             ('is_udacity', 'True'),\n",
       "             ('is_canceled', 'True')])"
      ]
     },
     "execution_count": 6,
     "metadata": {},
     "output_type": "execute_result"
    }
   ],
   "source": [
    "enrollment[0]"
   ]
  },
  {
   "cell_type": "code",
   "execution_count": 7,
   "metadata": {
    "scrolled": true
   },
   "outputs": [
    {
     "data": {
      "text/plain": [
       "OrderedDict([('creation_date', '2015-01-14'),\n",
       "             ('completion_date', '2015-01-16'),\n",
       "             ('assigned_rating', 'UNGRADED'),\n",
       "             ('account_key', '256'),\n",
       "             ('lesson_key', '3176718735'),\n",
       "             ('processing_state', 'EVALUATED')])"
      ]
     },
     "execution_count": 7,
     "metadata": {},
     "output_type": "execute_result"
    }
   ],
   "source": [
    "project_submission[0]"
   ]
  },
  {
   "cell_type": "code",
   "execution_count": 8,
   "metadata": {
    "collapsed": true
   },
   "outputs": [],
   "source": [
    "def parse_date(date):\n",
    "    if date == '':\n",
    "        return None\n",
    "    else:\n",
    "        return dt.strptime(date, '%Y-%m-%d')\n",
    "    "
   ]
  },
  {
   "cell_type": "code",
   "execution_count": 9,
   "metadata": {
    "collapsed": true
   },
   "outputs": [],
   "source": [
    "for row in daily_engagement:\n",
    "    row['account_key'] = row['acct']\n",
    "    row['utc_date'] = parse_date(row['utc_date'])\n",
    "    row['num_courses_visited'] = float(row['num_courses_visited'])\n",
    "    row['total_minutes_visited'] = float(row['total_minutes_visited'])\n",
    "    row['lessons_completed'] = float(row['lessons_completed'])\n",
    "    row['projects_completed'] = float(row['projects_completed'])"
   ]
  },
  {
   "cell_type": "code",
   "execution_count": 10,
   "metadata": {},
   "outputs": [
    {
     "data": {
      "text/plain": [
       "OrderedDict([('acct', '0'),\n",
       "             ('utc_date', datetime.datetime(2015, 1, 9, 0, 0)),\n",
       "             ('num_courses_visited', 1.0),\n",
       "             ('total_minutes_visited', 11.6793745),\n",
       "             ('lessons_completed', 0.0),\n",
       "             ('projects_completed', 0.0),\n",
       "             ('account_key', '0')])"
      ]
     },
     "execution_count": 10,
     "metadata": {},
     "output_type": "execute_result"
    }
   ],
   "source": [
    "daily_engagement[0]"
   ]
  },
  {
   "cell_type": "code",
   "execution_count": 11,
   "metadata": {
    "collapsed": true
   },
   "outputs": [],
   "source": [
    "for row in enrollment:\n",
    "    row['join_date'] = parse_date(row['join_date'])\n",
    "    row['cancel_date'] = parse_date(row['cancel_date'])\n",
    "    if row['days_to_cancel'] == '':\n",
    "        row['days_to_cancel'] = None\n",
    "    else:\n",
    "        row['days_to_cancel'] = int(row['days_to_cancel'])\n",
    "    row['is_udacity'] = row['is_udacity'] == 'True'\n",
    "    row['is_canceled'] = row['is_canceled'] == 'True'"
   ]
  },
  {
   "cell_type": "code",
   "execution_count": 12,
   "metadata": {},
   "outputs": [
    {
     "data": {
      "text/plain": [
       "OrderedDict([('account_key', '448'),\n",
       "             ('status', 'canceled'),\n",
       "             ('join_date', datetime.datetime(2014, 11, 10, 0, 0)),\n",
       "             ('cancel_date', datetime.datetime(2015, 1, 14, 0, 0)),\n",
       "             ('days_to_cancel', 65),\n",
       "             ('is_udacity', True),\n",
       "             ('is_canceled', True)])"
      ]
     },
     "execution_count": 12,
     "metadata": {},
     "output_type": "execute_result"
    }
   ],
   "source": [
    "enrollment[0]"
   ]
  },
  {
   "cell_type": "code",
   "execution_count": 13,
   "metadata": {
    "collapsed": true
   },
   "outputs": [],
   "source": [
    "def unique_account(data):\n",
    "    unique_account = []\n",
    "    for row in data:\n",
    "        if row['account_key'] not in unique_account:\n",
    "            unique_account.append(row['account_key'])\n",
    "    return(unique_account)\n",
    "\n",
    "daily_unique_account = unique_account(daily_engagement)\n",
    "enroll_unique_account = unique_account(enrollment)\n",
    "project_unique_account = unique_account(project_submission)"
   ]
  },
  {
   "cell_type": "code",
   "execution_count": 14,
   "metadata": {},
   "outputs": [
    {
     "data": {
      "text/plain": [
       "1237"
      ]
     },
     "execution_count": 14,
     "metadata": {},
     "output_type": "execute_result"
    }
   ],
   "source": [
    "len(daily_unique_account)"
   ]
  },
  {
   "cell_type": "code",
   "execution_count": 15,
   "metadata": {},
   "outputs": [
    {
     "data": {
      "text/plain": [
       "1302"
      ]
     },
     "execution_count": 15,
     "metadata": {},
     "output_type": "execute_result"
    }
   ],
   "source": [
    "len(enroll_unique_account)"
   ]
  },
  {
   "cell_type": "code",
   "execution_count": 16,
   "metadata": {},
   "outputs": [
    {
     "data": {
      "text/plain": [
       "743"
      ]
     },
     "execution_count": 16,
     "metadata": {},
     "output_type": "execute_result"
    }
   ],
   "source": [
    "len(project_unique_account)"
   ]
  },
  {
   "cell_type": "code",
   "execution_count": 17,
   "metadata": {
    "collapsed": true
   },
   "outputs": [],
   "source": [
    "zero_days = []\n",
    "for row in enrollment:\n",
    "    if row['account_key'] not in daily_unique_account:\n",
    "        if row['days_to_cancel'] == 0:\n",
    "            if row['account_key'] not in zero_days:\n",
    "                zero_days.append(row['account_key'])\n"
   ]
  },
  {
   "cell_type": "code",
   "execution_count": 18,
   "metadata": {},
   "outputs": [
    {
     "data": {
      "text/plain": [
       "63"
      ]
     },
     "execution_count": 18,
     "metadata": {},
     "output_type": "execute_result"
    }
   ],
   "source": [
    "len(zero_days)"
   ]
  },
  {
   "cell_type": "code",
   "execution_count": 19,
   "metadata": {},
   "outputs": [
    {
     "name": "stdout",
     "output_type": "stream",
     "text": [
      "OrderedDict([('account_key', '1304'), ('status', 'canceled'), ('join_date', datetime.datetime(2015, 1, 10, 0, 0)), ('cancel_date', datetime.datetime(2015, 3, 10, 0, 0)), ('days_to_cancel', 59), ('is_udacity', True), ('is_canceled', True)])\n",
      "OrderedDict([('account_key', '1304'), ('status', 'canceled'), ('join_date', datetime.datetime(2015, 3, 10, 0, 0)), ('cancel_date', datetime.datetime(2015, 6, 17, 0, 0)), ('days_to_cancel', 99), ('is_udacity', True), ('is_canceled', True)])\n",
      "OrderedDict([('account_key', '1101'), ('status', 'current'), ('join_date', datetime.datetime(2015, 2, 25, 0, 0)), ('cancel_date', None), ('days_to_cancel', None), ('is_udacity', True), ('is_canceled', False)])\n"
     ]
    }
   ],
   "source": [
    "for row in enrollment:\n",
    "    if row['account_key'] not in daily_unique_account:\n",
    "        if row['account_key'] not in zero_days:\n",
    "            print(row)"
   ]
  },
  {
   "cell_type": "code",
   "execution_count": 20,
   "metadata": {
    "collapsed": true
   },
   "outputs": [],
   "source": [
    "test_accounts = []\n",
    "for row in enrollment:\n",
    "    if row['is_udacity'] == True:\n",
    "        test_accounts.append(row['account_key'])"
   ]
  },
  {
   "cell_type": "code",
   "execution_count": 21,
   "metadata": {
    "collapsed": true
   },
   "outputs": [],
   "source": [
    "def non_udacity(data):\n",
    "    non_udacity = []\n",
    "    for row in data:\n",
    "        if row['account_key'] not in test_accounts:\n",
    "            non_udacity.append(row)\n",
    "    return(non_udacity)\n",
    "            "
   ]
  },
  {
   "cell_type": "code",
   "execution_count": 22,
   "metadata": {
    "collapsed": true
   },
   "outputs": [],
   "source": [
    "non_udacity_engagement = non_udacity(daily_engagement)\n",
    "non_udacity_enrollment = non_udacity(enrollment)\n",
    "non_udacity_submission = non_udacity(project_submission)"
   ]
  },
  {
   "cell_type": "code",
   "execution_count": 23,
   "metadata": {
    "collapsed": true
   },
   "outputs": [],
   "source": [
    "paid_students = {}\n",
    "for row in non_udacity_enrollment:\n",
    "    account_key = row['account_key']\n",
    "    enrollment = row['join_date']\n",
    "    if row['days_to_cancel'] == None or row['days_to_cancel'] > 7:\n",
    "        if account_key not in paid_students or enrollment > paid_students[account_key]:\n",
    "            paid_students[account_key] = enrollment"
   ]
  },
  {
   "cell_type": "code",
   "execution_count": 70,
   "metadata": {
    "collapsed": true
   },
   "outputs": [],
   "source": [
    "engagement_first_week = []\n",
    "for row in non_udacity_engagement:\n",
    "    if row['account_key'] in paid_students:\n",
    "        account_key = row['account_key']\n",
    "        join_date = paid_students[account_key]\n",
    "        engagement_date = row['utc_date']\n",
    "        \n",
    "        time_delta = engagement_date - join_date\n",
    "        \n",
    "        if time_delta.days >= 0 and time_delta.days < 7:\n",
    "            engagement_first_week.append(row)\n",
    "        "
   ]
  },
  {
   "cell_type": "code",
   "execution_count": null,
   "metadata": {
    "collapsed": true
   },
   "outputs": [],
   "source": []
  },
  {
   "cell_type": "code",
   "execution_count": 71,
   "metadata": {
    "collapsed": true
   },
   "outputs": [],
   "source": [
    "engagement_by_account = defaultdict(list)\n",
    "for row in engagement_first_week:\n",
    "    account_key = row['account_key']\n",
    "    engagement_by_account[account_key].append(row)"
   ]
  },
  {
   "cell_type": "code",
   "execution_count": 186,
   "metadata": {
    "collapsed": true
   },
   "outputs": [],
   "source": [
    "def total(group_data,term):\n",
    "    term_to_account = {}\n",
    "    for account_key, engagement in group_data.items():\n",
    "        total_term = 0\n",
    "        for row in engagement:\n",
    "            \n",
    "            total_term += row[term]\n",
    "        \n",
    "        term_to_account[account_key] = total_term\n",
    "        \n",
    "    return(term_to_account)"
   ]
  },
  {
   "cell_type": "code",
   "execution_count": 180,
   "metadata": {},
   "outputs": [],
   "source": [
    "minutes_to_account = total(engagement_by_account,'total_minutes_visited')\n",
    "lesson_to_account = total(engagement_by_account,'lessons_completed')\n",
    "projects_to_account = total(engagement_by_account,'projects_completed')"
   ]
  },
  {
   "cell_type": "code",
   "execution_count": 181,
   "metadata": {},
   "outputs": [
    {
     "data": {
      "image/png": "[encoded data removed]",
      "text/plain": [
       "<matplotlib.figure.Figure at 0x1d60fb32240>"
      ]
     },
     "metadata": {},
     "output_type": "display_data"
    }
   ],
   "source": [
    "num_bins = 7\n",
    "plt.hist(minutes_to_account.values(),num_bins)\n",
    "plt.xlabel('Minutes spend')\n",
    "plt.ylabel('No. of accounts')\n",
    "plt.show()"
   ]
  },
  {
   "cell_type": "code",
   "execution_count": 109,
   "metadata": {},
   "outputs": [
    {
     "data": {
      "image/png": "[encoded data removed]",
      "text/plain": [
       "<matplotlib.figure.Figure at 0x1d61045fbe0>"
      ]
     },
     "metadata": {},
     "output_type": "display_data"
    }
   ],
   "source": [
    "num_bins = 7\n",
    "plt.hist(lesson_to_account.values(),num_bins)\n",
    "plt.xlabel('Lessons completed')\n",
    "plt.ylabel('No. of accounts')\n",
    "plt.show()"
   ]
  },
  {
   "cell_type": "code",
   "execution_count": 102,
   "metadata": {},
   "outputs": [
    {
     "data": {
      "image/png": "[encoded data removed]",
      "text/plain": [
       "<matplotlib.figure.Figure at 0x1d60ff88278>"
      ]
     },
     "metadata": {},
     "output_type": "display_data"
    }
   ],
   "source": [
    "num_bins =2\n",
    "plt.figure(figsize = (3,5))\n",
    "plt.hist(projects_to_account.values(),num_bins)\n",
    "plt.xlabel('Projects completed')\n",
    "plt.ylabel('No. of accounts')\n",
    "plt.show()"
   ]
  },
  {
   "cell_type": "code",
   "execution_count": 77,
   "metadata": {},
   "outputs": [],
   "source": [
    "for row in engagement_first_week:\n",
    "    if row['num_courses_visited'] >= 1:\n",
    "        row['has visited'] = 1\n",
    "    else:\n",
    "        row['has visited'] = 0"
   ]
  },
  {
   "cell_type": "code",
   "execution_count": 78,
   "metadata": {
    "collapsed": true
   },
   "outputs": [],
   "source": [
    "visits_to_account = total('has visited')"
   ]
  },
  {
   "cell_type": "code",
   "execution_count": 131,
   "metadata": {
    "scrolled": true
   },
   "outputs": [
    {
     "data": {
      "image/png": "[encoded data removed]",
      "text/plain": [
       "<matplotlib.figure.Figure at 0x1d60fb7d160>"
      ]
     },
     "metadata": {},
     "output_type": "display_data"
    }
   ],
   "source": [
    "num_bins = 8\n",
    "plt.hist(visits_to_account.values() ,num_bins )\n",
    "plt.xlabel('no of days visited')\n",
    "plt.ylabel('no of accounts')\n",
    "plt.show()"
   ]
  },
  {
   "cell_type": "code",
   "execution_count": 125,
   "metadata": {},
   "outputs": [],
   "source": [
    "def results(data):\n",
    "    array = pd.Series(list(data.values()))\n",
    "    return array.describe()"
   ]
  },
  {
   "cell_type": "code",
   "execution_count": 126,
   "metadata": {},
   "outputs": [
    {
     "data": {
      "text/plain": [
       "count     995.000000\n",
       "mean      306.708327\n",
       "std       413.204626\n",
       "min         0.000000\n",
       "25%        13.743180\n",
       "50%       129.859204\n",
       "75%       451.903246\n",
       "max      3564.733264\n",
       "dtype: float64"
      ]
     },
     "execution_count": 126,
     "metadata": {},
     "output_type": "execute_result"
    }
   ],
   "source": [
    "results(minutes_to_account)"
   ]
  },
  {
   "cell_type": "code",
   "execution_count": 128,
   "metadata": {},
   "outputs": [
    {
     "data": {
      "text/plain": [
       "count    995.000000\n",
       "mean       1.636181\n",
       "std        3.004071\n",
       "min        0.000000\n",
       "25%        0.000000\n",
       "50%        0.000000\n",
       "75%        2.000000\n",
       "max       36.000000\n",
       "dtype: float64"
      ]
     },
     "execution_count": 128,
     "metadata": {},
     "output_type": "execute_result"
    }
   ],
   "source": [
    "results(lesson_to_account)"
   ]
  },
  {
   "cell_type": "code",
   "execution_count": 129,
   "metadata": {},
   "outputs": [
    {
     "data": {
      "text/plain": [
       "count    995.000000\n",
       "mean       2.867337\n",
       "std        2.256332\n",
       "min        0.000000\n",
       "25%        1.000000\n",
       "50%        3.000000\n",
       "75%        5.000000\n",
       "max        7.000000\n",
       "dtype: float64"
      ]
     },
     "execution_count": 129,
     "metadata": {},
     "output_type": "execute_result"
    }
   ],
   "source": [
    "results(visits_to_account)"
   ]
  },
  {
   "cell_type": "code",
   "execution_count": null,
   "metadata": {
    "collapsed": true
   },
   "outputs": [],
   "source": [
    "subway_project_lesson_keys = ['746169184', '3176718735']"
   ]
  },
  {
   "cell_type": "code",
   "execution_count": 137,
   "metadata": {},
   "outputs": [],
   "source": [
    "paid_submissions = []\n",
    "for row in project_submission:\n",
    "    if row['account_key'] in paid_students:\n",
    "        paid_submissions.append(row)"
   ]
  },
  {
   "cell_type": "code",
   "execution_count": 144,
   "metadata": {},
   "outputs": [
    {
     "data": {
      "text/plain": [
       "OrderedDict([('creation_date', '2015-01-14'),\n",
       "             ('completion_date', '2015-01-16'),\n",
       "             ('assigned_rating', 'UNGRADED'),\n",
       "             ('account_key', '256'),\n",
       "             ('lesson_key', '3176718735'),\n",
       "             ('processing_state', 'EVALUATED')])"
      ]
     },
     "execution_count": 144,
     "metadata": {},
     "output_type": "execute_result"
    }
   ],
   "source": [
    "paid_submissions[0]"
   ]
  },
  {
   "cell_type": "code",
   "execution_count": 142,
   "metadata": {},
   "outputs": [],
   "source": [
    "subway_submissions = []\n",
    "for row in paid_submissions:\n",
    "    if row['lesson_key'] == '3176718735' or row['lesson_key'] == '746169184':\n",
    "        subway_submissions.append(row)"
   ]
  },
  {
   "cell_type": "code",
   "execution_count": 143,
   "metadata": {},
   "outputs": [
    {
     "data": {
      "text/plain": [
       "1497"
      ]
     },
     "execution_count": 143,
     "metadata": {},
     "output_type": "execute_result"
    }
   ],
   "source": [
    "len(subway_submissions)"
   ]
  },
  {
   "cell_type": "code",
   "execution_count": 151,
   "metadata": {},
   "outputs": [
    {
     "data": {
      "text/plain": [
       "OrderedDict([('creation_date', '2015-04-07'),\n",
       "             ('completion_date', '2015-04-13'),\n",
       "             ('assigned_rating', 'PASSED'),\n",
       "             ('account_key', '381'),\n",
       "             ('lesson_key', '3176718735'),\n",
       "             ('processing_state', 'EVALUATED')])"
      ]
     },
     "execution_count": 151,
     "metadata": {},
     "output_type": "execute_result"
    }
   ],
   "source": [
    "subway_submissions[6]"
   ]
  },
  {
   "cell_type": "code",
   "execution_count": 167,
   "metadata": {},
   "outputs": [],
   "source": [
    "passed_accounts = []\n",
    "for row in subway_submissions:\n",
    "    if row['assigned_rating'] == 'PASSED' or row['assigned_rating'] == 'DISTINCTION':\n",
    "        if row['account_key'] not in passed_accounts:\n",
    "            passed_accounts.append(row['account_key'])"
   ]
  },
  {
   "cell_type": "code",
   "execution_count": 168,
   "metadata": {},
   "outputs": [
    {
     "data": {
      "text/plain": [
       "647"
      ]
     },
     "execution_count": 168,
     "metadata": {},
     "output_type": "execute_result"
    }
   ],
   "source": [
    "len(passed_accounts)"
   ]
  },
  {
   "cell_type": "code",
   "execution_count": 176,
   "metadata": {},
   "outputs": [],
   "source": [
    "passing_engagement = []\n",
    "non_passing_engagement = []\n",
    "for row in engagement_first_week:\n",
    "        if row['account_key'] in passed_accounts:\n",
    "            passing_engagement.append(row)\n",
    "        else:\n",
    "            non_passing_engagement.append(row)\n",
    "            "
   ]
  },
  {
   "cell_type": "code",
   "execution_count": 182,
   "metadata": {
    "collapsed": true
   },
   "outputs": [],
   "source": [
    "def group_Data(data,key):\n",
    "    engagement_by_account = defaultdict(list)\n",
    "    for row in data:\n",
    "        account_key = row[key]\n",
    "        engagement_by_account[account_key].append(row)\n",
    "    return engagement_by_account"
   ]
  },
  {
   "cell_type": "code",
   "execution_count": 184,
   "metadata": {
    "collapsed": true
   },
   "outputs": [],
   "source": [
    "passing_engagement_by_account  = group_Data(passing_engagement, 'account_key')\n",
    "non_passing_engagement_by_account = group_Data(non_passing_engagement, 'account_key')"
   ]
  },
  {
   "cell_type": "code",
   "execution_count": 191,
   "metadata": {},
   "outputs": [
    {
     "name": "stdout",
     "output_type": "stream",
     "text": [
      "passing_students\n"
     ]
    },
    {
     "data": {
      "text/plain": [
       "count     647.000000\n",
       "mean      394.586046\n",
       "std       448.846521\n",
       "min         0.000000\n",
       "25%        54.524142\n",
       "50%       264.528728\n",
       "75%       597.298550\n",
       "max      3564.733264\n",
       "dtype: float64"
      ]
     },
     "execution_count": 191,
     "metadata": {},
     "output_type": "execute_result"
    }
   ],
   "source": [
    "print('passing_students')\n",
    "results(total(passing_engagement_by_account,'total_minutes_visited'))"
   ]
  },
  {
   "cell_type": "code",
   "execution_count": 192,
   "metadata": {},
   "outputs": [
    {
     "name": "stdout",
     "output_type": "stream",
     "text": [
      "non_passing_students\n"
     ]
    },
    {
     "data": {
      "text/plain": [
       "count     348.000000\n",
       "mean      143.326474\n",
       "std       269.926724\n",
       "min         0.000000\n",
       "25%         0.000000\n",
       "50%        40.365200\n",
       "75%       140.272965\n",
       "max      1768.522749\n",
       "dtype: float64"
      ]
     },
     "execution_count": 192,
     "metadata": {},
     "output_type": "execute_result"
    }
   ],
   "source": [
    "print('non_passing_students')\n",
    "results(total(non_passing_engagement_by_account,'total_minutes_visited'))"
   ]
  },
  {
   "cell_type": "code",
   "execution_count": 193,
   "metadata": {},
   "outputs": [
    {
     "name": "stdout",
     "output_type": "stream",
     "text": [
      "non_passing_students\n"
     ]
    },
    {
     "data": {
      "text/plain": [
       "count    348.000000\n",
       "mean       0.862069\n",
       "std        2.552830\n",
       "min        0.000000\n",
       "25%        0.000000\n",
       "50%        0.000000\n",
       "75%        1.000000\n",
       "max       27.000000\n",
       "dtype: float64"
      ]
     },
     "execution_count": 193,
     "metadata": {},
     "output_type": "execute_result"
    }
   ],
   "source": [
    "print('non_passing_students')\n",
    "results(total(non_passing_engagement_by_account,'lessons_completed'))"
   ]
  },
  {
   "cell_type": "code",
   "execution_count": 195,
   "metadata": {},
   "outputs": [
    {
     "name": "stdout",
     "output_type": "stream",
     "text": [
      "passing_students\n"
     ]
    },
    {
     "data": {
      "text/plain": [
       "count    647.000000\n",
       "mean       2.052550\n",
       "std        3.144658\n",
       "min        0.000000\n",
       "25%        0.000000\n",
       "50%        1.000000\n",
       "75%        3.000000\n",
       "max       36.000000\n",
       "dtype: float64"
      ]
     },
     "execution_count": 195,
     "metadata": {},
     "output_type": "execute_result"
    }
   ],
   "source": [
    "print('passing_students')\n",
    "results(total(passing_engagement_by_account,'lessons_completed'))"
   ]
  },
  {
   "cell_type": "code",
   "execution_count": null,
   "metadata": {
    "collapsed": true
   },
   "outputs": [],
   "source": []
  }
 ],
 "metadata": {
  "kernelspec": {
   "display_name": "Python 3",
   "language": "python",
   "name": "python3"
  },
  "language_info": {
   "codemirror_mode": {
    "name": "ipython",
    "version": 3
   },
   "file_extension": ".py",
   "mimetype": "text/x-python",
   "name": "python",
   "nbconvert_exporter": "python",
   "pygments_lexer": "ipython3",
   "version": "3.6.3"
  }
 },
 "nbformat": 4,
 "nbformat_minor": 2
}
