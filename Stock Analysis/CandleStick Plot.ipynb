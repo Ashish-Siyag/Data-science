{
 "cells": [
  {
   "cell_type": "code",
   "execution_count": 1,
   "metadata": {},
   "outputs": [
    {
     "name": "stderr",
     "output_type": "stream",
     "text": [
      "C:\\Users\\ashis\\Anaconda3\\lib\\site-packages\\matplotlib\\cbook\\deprecation.py:106: MatplotlibDeprecationWarning: The finance module has been deprecated in mpl 2.0 and will be removed in mpl 2.2. Please use the module mpl_finance instead.\n",
      "  warnings.warn(message, mplDeprecation, stacklevel=1)\n"
     ]
    }
   ],
   "source": [
    "import pandas as pd\n",
    "import matplotlib.dates as mdates\n",
    "import matplotlib.pyplot as plt\n",
    "from matplotlib.finance import candlestick_ohlc as ohlc\n",
    "from matplotlib import style\n",
    "\n",
    "style.use('ggplot')"
   ]
  },
  {
   "cell_type": "code",
   "execution_count": 2,
   "metadata": {},
   "outputs": [],
   "source": [
    "data = pd.read_csv('banks_data.csv',parse_dates = True, index_col = ['ticker','Date'])"
   ]
  },
  {
   "cell_type": "code",
   "execution_count": 3,
   "metadata": {
    "collapsed": true
   },
   "outputs": [],
   "source": [
    "axis_data = data.loc['NSE/AXISBANK']['2017']"
   ]
  },
  {
   "cell_type": "code",
   "execution_count": 4,
   "metadata": {},
   "outputs": [],
   "source": [
    "axis_data.reset_index(inplace = True)"
   ]
  },
  {
   "cell_type": "code",
   "execution_count": 5,
   "metadata": {},
   "outputs": [
    {
     "data": {
      "text/html": [
       "<div>\n",
       "<style>\n",
       "    .dataframe thead tr:only-child th {\n",
       "        text-align: right;\n",
       "    }\n",
       "\n",
       "    .dataframe thead th {\n",
       "        text-align: left;\n",
       "    }\n",
       "\n",
       "    .dataframe tbody tr th {\n",
       "        vertical-align: top;\n",
       "    }\n",
       "</style>\n",
       "<table border=\"1\" class=\"dataframe\">\n",
       "  <thead>\n",
       "    <tr style=\"text-align: right;\">\n",
       "      <th></th>\n",
       "      <th>Date</th>\n",
       "      <th>Open</th>\n",
       "      <th>High</th>\n",
       "      <th>Low</th>\n",
       "      <th>Last</th>\n",
       "      <th>Close</th>\n",
       "      <th>Total Trade Quantity</th>\n",
       "      <th>Turnover (Lacs)</th>\n",
       "    </tr>\n",
       "  </thead>\n",
       "  <tbody>\n",
       "    <tr>\n",
       "      <th>0</th>\n",
       "      <td>2017-01-02</td>\n",
       "      <td>451.4</td>\n",
       "      <td>452.0</td>\n",
       "      <td>441.25</td>\n",
       "      <td>447.00</td>\n",
       "      <td>447.75</td>\n",
       "      <td>3054394.0</td>\n",
       "      <td>13628.00</td>\n",
       "    </tr>\n",
       "    <tr>\n",
       "      <th>1</th>\n",
       "      <td>2017-01-03</td>\n",
       "      <td>449.6</td>\n",
       "      <td>457.8</td>\n",
       "      <td>443.50</td>\n",
       "      <td>454.95</td>\n",
       "      <td>455.25</td>\n",
       "      <td>4621782.0</td>\n",
       "      <td>20957.16</td>\n",
       "    </tr>\n",
       "    <tr>\n",
       "      <th>2</th>\n",
       "      <td>2017-01-04</td>\n",
       "      <td>455.0</td>\n",
       "      <td>460.0</td>\n",
       "      <td>451.95</td>\n",
       "      <td>454.10</td>\n",
       "      <td>453.10</td>\n",
       "      <td>3703873.0</td>\n",
       "      <td>16854.72</td>\n",
       "    </tr>\n",
       "    <tr>\n",
       "      <th>3</th>\n",
       "      <td>2017-01-05</td>\n",
       "      <td>454.6</td>\n",
       "      <td>463.9</td>\n",
       "      <td>453.25</td>\n",
       "      <td>457.10</td>\n",
       "      <td>458.05</td>\n",
       "      <td>5829373.0</td>\n",
       "      <td>26725.28</td>\n",
       "    </tr>\n",
       "    <tr>\n",
       "      <th>4</th>\n",
       "      <td>2017-01-06</td>\n",
       "      <td>459.7</td>\n",
       "      <td>461.8</td>\n",
       "      <td>454.05</td>\n",
       "      <td>454.40</td>\n",
       "      <td>455.20</td>\n",
       "      <td>4431212.0</td>\n",
       "      <td>20260.48</td>\n",
       "    </tr>\n",
       "  </tbody>\n",
       "</table>\n",
       "</div>"
      ],
      "text/plain": [
       "        Date   Open   High     Low    Last   Close  Total Trade Quantity  \\\n",
       "0 2017-01-02  451.4  452.0  441.25  447.00  447.75             3054394.0   \n",
       "1 2017-01-03  449.6  457.8  443.50  454.95  455.25             4621782.0   \n",
       "2 2017-01-04  455.0  460.0  451.95  454.10  453.10             3703873.0   \n",
       "3 2017-01-05  454.6  463.9  453.25  457.10  458.05             5829373.0   \n",
       "4 2017-01-06  459.7  461.8  454.05  454.40  455.20             4431212.0   \n",
       "\n",
       "   Turnover (Lacs)  \n",
       "0         13628.00  \n",
       "1         20957.16  \n",
       "2         16854.72  \n",
       "3         26725.28  \n",
       "4         20260.48  "
      ]
     },
     "execution_count": 5,
     "metadata": {},
     "output_type": "execute_result"
    }
   ],
   "source": [
    "axis_data.head()"
   ]
  },
  {
   "cell_type": "code",
   "execution_count": 6,
   "metadata": {},
   "outputs": [],
   "source": [
    "axis_data['Date'] = axis_data['Date'].map(mdates.date2num)"
   ]
  },
  {
   "cell_type": "code",
   "execution_count": 7,
   "metadata": {},
   "outputs": [
    {
     "data": {
      "image/png": "[encoded data removed]",
      "text/plain": [
       "<matplotlib.figure.Figure at 0x298223dc748>"
      ]
     },
     "metadata": {},
     "output_type": "display_data"
    }
   ],
   "source": [
    "plt.figure(figsize = (20,10))\n",
    "\n",
    "ax1 = plt.subplot2grid((1,1),(0,0),rowspan = 1,colspan = 1)\n",
    "\n",
    "ohlc(ax1,axis_data.values,colorup = 'r',colordown = 'g')\n",
    "plt.ylabel('Price')\n",
    "ax1.grid(True)\n",
    "ax1.xaxis_date()\n",
    "\n",
    "plt.show()"
   ]
  }
 ],
 "metadata": {
  "kernelspec": {
   "display_name": "Python 3",
   "language": "python",
   "name": "python3"
  },
  "language_info": {
   "codemirror_mode": {
    "name": "ipython",
    "version": 3
   },
   "file_extension": ".py",
   "mimetype": "text/x-python",
   "name": "python",
   "nbconvert_exporter": "python",
   "pygments_lexer": "ipython3",
   "version": "3.6.3"
  }
 },
 "nbformat": 4,
 "nbformat_minor": 2
}
